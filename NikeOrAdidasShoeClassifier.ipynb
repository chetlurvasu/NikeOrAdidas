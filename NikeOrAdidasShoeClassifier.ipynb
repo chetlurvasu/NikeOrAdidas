{
 "cells": [
  {
   "cell_type": "code",
   "execution_count": 1,
   "id": "ef56dde3",
   "metadata": {},
   "outputs": [],
   "source": [
    "%matplotlib inline\n",
    "\n",
    "import numpy as np\n",
    "import pandas as pd\n",
    "from keras.preprocessing.image import ImageDataGenerator #augment  images\n",
    "from keras.models import Model\n",
    "from keras.layers import Input, Flatten, Dense\n",
    "from keras.callbacks import Callback, ModelCheckpoint # to get a view on internal states and statistics of the model during training\n",
    "#define where to checkpoint the model weights, how to name the file\n",
    "from keras.applications.vgg16 import VGG16 #Very Deep Convolutional Networks\n",
    "from keras.preprocessing import image\n",
    "from keras.applications.vgg16 import preprocess_input\n",
    "\n",
    "import warnings\n",
    "warnings.filterwarnings('ignore')"
   ]
  },
  {
   "cell_type": "code",
   "execution_count": 2,
   "id": "b1fe46db",
   "metadata": {},
   "outputs": [],
   "source": [
    "model_vgg16_conv = VGG16(weights='imagenet', include_top=False)"
   ]
  },
  {
   "cell_type": "code",
   "execution_count": 3,
   "id": "9f4d6ee1",
   "metadata": {},
   "outputs": [],
   "source": [
    "for layer in model_vgg16_conv.layers:\n",
    "    layer.trainable = False"
   ]
  },
  {
   "cell_type": "code",
   "execution_count": 4,
   "id": "1cba2824",
   "metadata": {},
   "outputs": [],
   "source": [
    "img_width, img_height = 150, 150\n",
    "train_data_dir = r\"data\\train\"\n",
    "val_data_dir = r\"C:data\\validation\"\n",
    "model_weights_file = 'vgg16-xfer-weights.h5'\n",
    "nb_train_samples = 460\n",
    "nb_val_samples = 55\n",
    "nb_epochs = 5"
   ]
  },
  {
   "cell_type": "code",
   "execution_count": 5,
   "id": "507144fc",
   "metadata": {},
   "outputs": [],
   "source": [
    "input = Input(shape=(img_width, img_height, 3))\n",
    "output_vgg16_conv = model_vgg16_conv(input)\n",
    "x = Flatten()(output_vgg16_conv)\n",
    "x = Dense(64, activation='relu')(x)\n",
    "x = Dense(2, activation='softmax')(x)\n",
    "model = Model(input, x)\n",
    "\n",
    "model.compile(loss='categorical_crossentropy', optimizer='rmsprop', metrics=['accuracy'])"
   ]
  },
  {
   "cell_type": "code",
   "execution_count": 21,
   "id": "de0b8bcb",
   "metadata": {},
   "outputs": [
    {
     "name": "stdout",
     "output_type": "stream",
     "text": [
      "Found 460 images belonging to 2 classes.\n",
      "Found 55 images belonging to 2 classes.\n"
     ]
    }
   ],
   "source": [
    "train_datagen = ImageDataGenerator(rescale=1./255, shear_range=0.2, zoom_range=0.2, horizontal_flip=True)\n",
    "test_datagen = ImageDataGenerator(rescale=1./255)\n",
    "#augment  images\n",
    "train_generator = train_datagen.flow_from_directory(train_data_dir, target_size=(img_width, img_height),\n",
    "                                                    batch_size=32, class_mode='categorical')\n",
    "validation_generator = test_datagen.flow_from_directory(val_data_dir, target_size=(img_width, img_height),\n",
    "                                                        batch_size=32,class_mode='categorical')"
   ]
  },
  {
   "cell_type": "code",
   "execution_count": 7,
   "id": "85f877ed",
   "metadata": {},
   "outputs": [
    {
     "name": "stdout",
     "output_type": "stream",
     "text": [
      "Epoch 1/5\n",
      "15/15 [==============================] - ETA: 0s - loss: 1.2625 - accuracy: 0.6065WARNING:tensorflow:Can save best model only with val_acc available, skipping.\n",
      "15/15 [==============================] - 37s 2s/step - loss: 1.2625 - accuracy: 0.6065 - val_loss: 0.6660 - val_accuracy: 0.6182\n",
      "Epoch 2/5\n",
      "15/15 [==============================] - ETA: 0s - loss: 0.4900 - accuracy: 0.7652WARNING:tensorflow:Can save best model only with val_acc available, skipping.\n",
      "15/15 [==============================] - 38s 3s/step - loss: 0.4900 - accuracy: 0.7652 - val_loss: 0.4954 - val_accuracy: 0.6909\n",
      "Epoch 3/5\n",
      "15/15 [==============================] - ETA: 0s - loss: 0.4813 - accuracy: 0.7413WARNING:tensorflow:Can save best model only with val_acc available, skipping.\n",
      "15/15 [==============================] - 46s 3s/step - loss: 0.4813 - accuracy: 0.7413 - val_loss: 0.6074 - val_accuracy: 0.6909\n",
      "Epoch 4/5\n",
      "15/15 [==============================] - ETA: 0s - loss: 0.4119 - accuracy: 0.8217WARNING:tensorflow:Can save best model only with val_acc available, skipping.\n",
      "15/15 [==============================] - 46s 3s/step - loss: 0.4119 - accuracy: 0.8217 - val_loss: 0.5657 - val_accuracy: 0.6727\n",
      "Epoch 5/5\n",
      "15/15 [==============================] - ETA: 0s - loss: 0.3718 - accuracy: 0.8391WARNING:tensorflow:Can save best model only with val_acc available, skipping.\n",
      "15/15 [==============================] - 47s 3s/step - loss: 0.3718 - accuracy: 0.8391 - val_loss: 0.5231 - val_accuracy: 0.7818\n",
      "Training Completed!\n"
     ]
    }
   ],
   "source": [
    "callbacks = [ModelCheckpoint(model_weights_file, monitor='val_acc', save_best_only=True)]\n",
    "\n",
    "history = model.fit_generator( train_generator, epochs=5, callbacks = callbacks, validation_data=validation_generator)\n",
    "print('Training Completed!')"
   ]
  },
  {
   "cell_type": "code",
   "execution_count": 22,
   "id": "f8af3c47",
   "metadata": {},
   "outputs": [
    {
     "name": "stdout",
     "output_type": "stream",
     "text": [
      "Input Shape: (1, 150, 150, 3)\n",
      "1/1 [==============================] - 0s 205ms/step\n",
      "Predicted Array: [[1.00000e+00 3.67867e-15]]\n",
      "Predicted Label: Nike\n"
     ]
    }
   ],
   "source": [
    "from keras.preprocessing import image\n",
    "from keras.applications.vgg16 import preprocess_input, decode_predictions\n",
    "import numpy as np\n",
    "\n",
    "#img_path = r\"data\\test\\adidasShoe.jpg\"\n",
    "\n",
    "img_path=r\"data\\test\\nikeShoe.jpg\"\n",
    "\n",
    "label = ['Nike', 'Adidas']\n",
    "\n",
    "img = image.load_img(img_path, target_size=(150, 150))\n",
    "x = image.img_to_array(img)\n",
    "x = np.expand_dims(x, axis=0)\n",
    "x = preprocess_input(x)\n",
    "\n",
    "print('Input Shape:', x.shape)\n",
    "\n",
    "features = model.predict(x)\n",
    "\n",
    "print('Predicted Array:', features)\n",
    "\n",
    "if features.size > 0:\n",
    "    ind = np.argmax(features)  # Using np.argmax instead of np.where\n",
    "    print('Predicted Label:', label[ind])\n",
    "else:\n",
    "    print('No predictions were made.')"
   ]
  }
 ],
 "metadata": {
  "kernelspec": {
   "display_name": "Python 3 (ipykernel)",
   "language": "python",
   "name": "python3"
  },
  "language_info": {
   "codemirror_mode": {
    "name": "ipython",
    "version": 3
   },
   "file_extension": ".py",
   "mimetype": "text/x-python",
   "name": "python",
   "nbconvert_exporter": "python",
   "pygments_lexer": "ipython3",
   "version": "3.11.4"
  }
 },
 "nbformat": 4,
 "nbformat_minor": 5
}
